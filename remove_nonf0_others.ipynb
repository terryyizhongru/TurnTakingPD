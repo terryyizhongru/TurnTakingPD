{
 "cells": [
  {
   "cell_type": "code",
   "execution_count": null,
   "metadata": {},
   "outputs": [],
   "source": [
    "import os\n",
    "\n",
    "ids = set()\n",
    "with open('./non_f0_list.txt') as f:\n",
    "    for line in f:\n",
    "        ids.add('.'.join(line.strip().split('.')[:2]))\n",
    "print(ids)\n",
    "# remove all files starting with the id\n",
    "for root, dirs, files in os.walk('/home/yzhong/gits/TurnTakingPD/storage025/wavs_single_channel_nosil'):\n",
    "    for file in files:\n",
    "        if file[:-4] in ids or '.'.join(file.strip().split('.')[:2]) in ids:\n",
    "            os.remove(os.path.join(root, file))\n",
    "            print(file)\n",
    "            \n",
    "            "
   ]
  },
  {
   "cell_type": "code",
   "execution_count": null,
   "metadata": {},
   "outputs": [],
   "source": [
    "import os\n",
    "\n",
    "# remove all files starting with the id\n",
    "# for root, dirs, files in os.walk('/home/yzhong/gits/TurnTakingPD/storage025/wavs_single_channel_nosil'):\n",
    "for root, dirs, files in os.walk('/home/yzhong/gits/TurnTakingPD/storage025/wavs_single_channel_normalized_nosil'):\n",
    "    for file in files:\n",
    "        if file[:7] == 'subj-11' and file.split('.')[1] == 'png_1':\n",
    "            os.remove(os.path.join(root, file))\n",
    "            print(file)\n",
    "            \n",
    "            "
   ]
  },
  {
   "cell_type": "code",
   "execution_count": 7,
   "metadata": {},
   "outputs": [],
   "source": [
    "fn = 'clean_id_responsetime_PictureNaming_filtered.txt'\n",
    "with open('filelists/' + fn, 'r') as f:\n",
    "    lines = f.readlines()\n",
    "    \n",
    "with open('filelists/' + fn, 'w') as f:\n",
    "    for line in lines:\n",
    "        file = line.split()[0]\n",
    "        if file[:7] == 'subj-11' and file.split('.')[1] == 'png_1':\n",
    "            continue\n",
    "        f.write(line)\n",
    "        "
   ]
  }
 ],
 "metadata": {
  "kernelspec": {
   "display_name": "yzhongenv",
   "language": "python",
   "name": "python3"
  },
  "language_info": {
   "codemirror_mode": {
    "name": "ipython",
    "version": 3
   },
   "file_extension": ".py",
   "mimetype": "text/x-python",
   "name": "python",
   "nbconvert_exporter": "python",
   "pygments_lexer": "ipython3",
   "version": "3.10.12"
  }
 },
 "nbformat": 4,
 "nbformat_minor": 2
}
