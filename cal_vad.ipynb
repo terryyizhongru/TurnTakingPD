{
 "cells": [
  {
   "cell_type": "code",
   "execution_count": null,
   "metadata": {},
   "outputs": [],
   "source": [
    "import numpy as np\n",
    "import librosa\n",
    "\n",
    "ff = \"wavs_single_channel/BoundaryTone-features-pyin/subj-2108_piano_1obj_mbt_zen.wav_1.wav.npy\"\n",
    "# load features from npy\n",
    "features = np.load(ff)"
   ]
  },
  {
   "cell_type": "code",
   "execution_count": null,
   "metadata": {},
   "outputs": [],
   "source": [
    "# get first non-zero frame\n",
    "non_zero_frames = np.where(features[1] != 0)\n",
    "first_non_zero_frame = non_zero_frames[0][0]\n",
    "y, sr = librosa.load('wavs_single_channel/BoundaryTone/subj-2108_piano_1obj_mbt_zen.wav_1.wav', sr=44100)\n",
    "\n",
    "print(y.shape, sr)\n",
    "print(y.shape[0]/44100)\n",
    "f0, voiced_flag, voiced_probs = librosa.pyin(y,\n",
    "                                            sr=16000,\n",
    "                                            fmin=librosa.note_to_hz('C2'),\n",
    "                                            fmax=librosa.note_to_hz('C7'),\n",
    "                                            fill_na=0.0)\n",
    "\n",
    "print(voiced_flag.shape)\n",
    "\n",
    "f02, voiced_flag2, voiced_probs2 = librosa.pyin(y,\n",
    "                                            sr=44100,\n",
    "                                            fmin=librosa.note_to_hz('C2'),\n",
    "                                            fmax=librosa.note_to_hz('C7'),\n",
    "                                            fill_na=0.0)\n",
    "\n",
    "print(voiced_flag2[-3:])\n",
    "# print(features.shape)\n",
    "# print(features.shape[1]/44100)\n",
    "\n"
   ]
  },
  {
   "cell_type": "code",
   "execution_count": 66,
   "metadata": {},
   "outputs": [
    {
     "name": "stdout",
     "output_type": "stream",
     "text": [
      "[False, True, True, True, True, True, True, True, True, True, True, False, False, False, False, False, False, False, False, False, False, False, False, False, False, False, False, False, False, False, False, False, False, False, False, False, False, False, False, False, False, False, False, False, False, False, False, False, False, False, False, False, False, False, False, False, False, False, False, False, False, False, False, False, False, False, False, False, False, False, False, False, False, False, False, False, False, False, False, False, False, False, False, False, False, False, False, False, False, False, False, False, False, False, False, False, False, False, False, False, False, False, False, False, False, False, False, False, False, False, False, False, False, False, True, True, True, True, True, True, True, True, True, True, True, True, True, True, True, True, True, True, True, True, True, True, True, True, True, True, True, True, True, True, True, True, True, True, True, True, True, True, True, True, True, True, True, True, True, True, True, True, True, True, True, True, True, True, True, True, True, True, True, True, True, True, True, True, True, True, True, True, True, True, True, True, True, True, True, True, True, True, True, True, True, True, True, True, True, True, True, True, True, True, True, True, True, True, True, True, True, True, True, True, True, True, True, True, True, True, True, True, True, True, True, True, True, True, True, True, True, True, True, True, True, True, True, True, True, True, True, True, True, True, True, True, True, True, True, True, True, True, True, True, True, True, True, True, True, True, True, True, True, True, True, True, True, True, True, True, True, True, True, True, True, True, True, True, True, True, True, True, True, True, True, True, True, True, True, True, True, True, True, True, True, True, True, True, True, True, True, True, True, True, True, True, True, True, True, True, True, True, True, True, True, True, True, True, True, True, True, True, True, True, True, False, False, False, False, True, True, True, True, True, True, True, True, True, False, False, False, False, False, False, False, False, False, False, False, False, False, False, False, False, False, False, False, False, False, False, False, False, False, False, False, False, False, False, False]\n"
     ]
    }
   ],
   "source": [
    "import webrtcvad\n",
    "\n",
    "\n",
    "\n",
    "def get_vad(y, sr, mode=2):\n",
    "    vad = webrtcvad.Vad()\n",
    "    vad.set_mode(mode)\n",
    "\n",
    "    sample_rate = 16000\n",
    "    # downsampling from 44100 to 16000 and framing\n",
    "    y_16k = librosa.resample(y, orig_sr=sr, target_sr=sample_rate)\n",
    "    # transfer to bytes\n",
    "    y_16k = np.int16(y_16k * 32768).tobytes()\n",
    "    # calculate bytes of 10ms in 16000Hz\n",
    "    step = int(sample_rate * 0.01) * 2\n",
    "\n",
    "    # assert error if len(y_16k) < step\n",
    "    assert len(y_16k) >= step\n",
    "\n",
    "    # loop the bytes in 10ms frames\n",
    "    frames = []\n",
    "    for i in range(0, len(y_16k) - step, step):\n",
    "        frames.append(y_16k[i:i+step])\n",
    "\n",
    "    vadres = []\n",
    "    for i, frame in enumerate(frames):\n",
    "        vadres.append(vad.is_speech(frame, sample_rate))\n",
    "    return vadres\n",
    "\n",
    "print(get_vad(y, sr, mode=1))\n"
   ]
  }
 ],
 "metadata": {
  "kernelspec": {
   "display_name": "yzhongenv",
   "language": "python",
   "name": "python3"
  },
  "language_info": {
   "codemirror_mode": {
    "name": "ipython",
    "version": 3
   },
   "file_extension": ".py",
   "mimetype": "text/x-python",
   "name": "python",
   "nbconvert_exporter": "python",
   "pygments_lexer": "ipython3",
   "version": "3.10.12"
  }
 },
 "nbformat": 4,
 "nbformat_minor": 2
}
