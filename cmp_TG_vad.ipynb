{
 "cells": [
  {
   "cell_type": "code",
   "execution_count": 37,
   "metadata": {},
   "outputs": [
    {
     "name": "stdout",
     "output_type": "stream",
     "text": [
      "An error occurred: local variable 'res' referenced before assignment at error file: wavs_single_channel/EarlyLate-TG/subj-2209_48_L_praten_veren_wav_1.TextGrid\n"
     ]
    },
    {
     "ename": "KeyboardInterrupt",
     "evalue": "",
     "output_type": "error",
     "traceback": [
      "\u001b[0;31m---------------------------------------------------------------------------\u001b[0m",
      "\u001b[0;31mKeyboardInterrupt\u001b[0m                         Traceback (most recent call last)",
      "Cell \u001b[0;32mIn[37], line 37\u001b[0m\n\u001b[1;32m     35\u001b[0m start \u001b[38;5;241m=\u001b[39m np\u001b[38;5;241m.\u001b[39margmax(vadres[\u001b[38;5;241m15\u001b[39m:]) \u001b[38;5;241m/\u001b[39m \u001b[38;5;241m100.0\u001b[39m\n\u001b[1;32m     36\u001b[0m start \u001b[38;5;241m+\u001b[39m\u001b[38;5;241m=\u001b[39m \u001b[38;5;241m0.15\u001b[39m\n\u001b[0;32m---> 37\u001b[0m end \u001b[38;5;241m=\u001b[39m (\u001b[38;5;28mlen\u001b[39m(vadres) \u001b[38;5;241m-\u001b[39m np\u001b[38;5;241m.\u001b[39margmax(\u001b[43mnp\u001b[49m\u001b[38;5;241;43m.\u001b[39;49m\u001b[43mflip\u001b[49m\u001b[43m(\u001b[49m\u001b[43mvadres\u001b[49m\u001b[43m)\u001b[49m)) \u001b[38;5;241m/\u001b[39m \u001b[38;5;241m100.0\u001b[39m\n\u001b[1;32m     38\u001b[0m tgfn \u001b[38;5;241m=\u001b[39m os\u001b[38;5;241m.\u001b[39mpath\u001b[38;5;241m.\u001b[39mbasename(fn)\n\u001b[1;32m     39\u001b[0m tgfn \u001b[38;5;241m=\u001b[39m tgfn\u001b[38;5;241m.\u001b[39msplit(\u001b[38;5;124m'\u001b[39m\u001b[38;5;124m.\u001b[39m\u001b[38;5;124m'\u001b[39m)[\u001b[38;5;241m0\u001b[39m] \u001b[38;5;241m+\u001b[39m \u001b[38;5;124m'\u001b[39m\u001b[38;5;124m_\u001b[39m\u001b[38;5;124m'\u001b[39m \u001b[38;5;241m+\u001b[39m tgfn\u001b[38;5;241m.\u001b[39msplit(\u001b[38;5;124m'\u001b[39m\u001b[38;5;124m.\u001b[39m\u001b[38;5;124m'\u001b[39m)[\u001b[38;5;241m1\u001b[39m] \u001b[38;5;241m+\u001b[39m \u001b[38;5;124m'\u001b[39m\u001b[38;5;124m.TextGrid\u001b[39m\u001b[38;5;124m'\u001b[39m\n",
      "\u001b[0;31mKeyboardInterrupt\u001b[0m: "
     ]
    }
   ],
   "source": [
    "\n",
    "import os\n",
    "import glob\n",
    "\n",
    "import textgrid\n",
    "import numpy as np\n",
    "\n",
    "# Load the TextGrid file\n",
    "def load_textgrid(file_path):\n",
    "    try:\n",
    "        tg = textgrid.TextGrid.fromFile(file_path)\n",
    "        # Iterate through tiers\n",
    "        for tier in tg.tiers:\n",
    "            for interval in tier:\n",
    "                if interval.mark != '':\n",
    "                    res = (interval.minTime, interval.maxTime, interval.mark)\n",
    "            \n",
    "\n",
    "            return res, int(tier[-1].maxTime * 100)\n",
    "    except Exception as e:\n",
    "        print(f\"An error occurred: {e} at error file: {file_path}\")\n",
    "        return None, None\n",
    "\n",
    "\n",
    "folder = 'wavs_single_channel/EarlyLate-features/vad2/'\n",
    "files = glob.glob(os.path.join(folder, '*.npy'))\n",
    "diff = []\n",
    "cnt_empty = 0\n",
    "for fn in files:\n",
    "    if 'prac' in fn:\n",
    "        continue\n",
    "    vadres = np.load(fn)\n",
    "    if len(vadres) <= 15:\n",
    "        raise ValueError(f\"File too short: {fn  }\")\n",
    "    # find first and last index of True\n",
    "    start = np.argmax(vadres[15:]) / 100.0\n",
    "    start += 0.15\n",
    "    end = (len(vadres) - np.argmax(np.flip(vadres))) / 100.0\n",
    "    tgfn = os.path.basename(fn)\n",
    "    tgfn = tgfn.split('.')[0] + '_' + tgfn.split('.')[1] + '.TextGrid'\n",
    "    if tgfn is not None:\n",
    "        tgfn = os.path.join('wavs_single_channel/EarlyLate-TG/', os.path.basename(tgfn))\n",
    "    tg, length = load_textgrid(tgfn)\n",
    "    if tg is None:\n",
    "        continue\n",
    "    \n",
    "    if length != len(vadres):\n",
    "        print(f\"Length mismatch: {length} vs {len(vadres)}\")\n",
    "    else:\n",
    "        if end - start < 0.08:\n",
    "            cnt_empty += 1\n",
    "            \n",
    "        diff.append([abs(start - tg[0]), abs(end - tg[1])])\n",
    "\n",
    "# calculate the max difference and average difference\n",
    "\n",
    "print(f\"cnt_empty: {cnt_empty}\")\n",
    "diff = np.array(diff)\n",
    "print(np.max(diff, axis=0))\n",
    "# get first and second column max\n",
    "\n",
    "print(np.max(diff[:, 1]))\n",
    "print(np.max(diff[:, 0]))\n",
    "# count how many are greater than 2.0\n",
    "print(np.sum(diff[:, 1] > 2.0))\n",
    "print(np.sum(diff[:, 0] > 2.0))\n",
    "print(np.sum(diff[:, 1] > 5.0))\n",
    "print(np.sum(diff[:, 0] > 5.0))\n",
    "\n",
    "\n",
    "print(np.mean(diff, axis=0))\n",
    "\n",
    "# remove the outliers > 2.0\n",
    "diff = diff[diff[:, 1] < 2.0]\n",
    "diff = diff[diff[:, 0] < 2.0]\n",
    "\n",
    "print(np.mean(diff, axis=0))\n",
    "    \n"
   ]
  }
 ],
 "metadata": {
  "kernelspec": {
   "display_name": "yzhongenv",
   "language": "python",
   "name": "python3"
  },
  "language_info": {
   "codemirror_mode": {
    "name": "ipython",
    "version": 3
   },
   "file_extension": ".py",
   "mimetype": "text/x-python",
   "name": "python",
   "nbconvert_exporter": "python",
   "pygments_lexer": "ipython3",
   "version": "3.10.12"
  }
 },
 "nbformat": 4,
 "nbformat_minor": 2
}
