{
 "cells": [
  {
   "cell_type": "code",
   "execution_count": null,
   "metadata": {},
   "outputs": [],
   "source": [
    "import numpy as np\n",
    "import librosa\n",
    "\n",
    "\n",
    "# \n",
    "y, sr = librosa.load('out.wav', sr=44100)\n",
    "\n",
    "print(y.shape, sr)\n",
    "print(y.shape[0]/44100)\n",
    "f0, voiced_flag, voiced_probs = librosa.pyin(y,\n",
    "                                            sr=16000,\n",
    "                                            fmin=librosa.note_to_hz('C2'),\n",
    "                                            fmax=librosa.note_to_hz('C7'),\n",
    "                                            fill_na=0.0)\n",
    "\n",
    "print(voiced_flag.shape)\n",
    "\n",
    "f02, voiced_flag2, voiced_probs2 = librosa.pyin(y,\n",
    "                                            sr=44100,\n",
    "                                            fmin=librosa.note_to_hz('C2'),\n",
    "                                            fmax=librosa.note_to_hz('C7'),\n",
    "                                            fill_na=0.0)\n",
    "\n",
    "print(f02)\n",
    "# print(features.shape)\n",
    "# print(features.shape[1]/44100)\n",
    "\n"
   ]
  },
  {
   "cell_type": "code",
   "execution_count": null,
   "metadata": {},
   "outputs": [],
   "source": [
    "import webrtcvad\n",
    "\n",
    "\n",
    "\n",
    "def get_vad(y, sr, mode=2):\n",
    "    vad = webrtcvad.Vad()\n",
    "    vad.set_mode(mode)\n",
    "\n",
    "    sample_rate = 16000\n",
    "    # downsampling from 44100 to 16000 and framing\n",
    "    y_16k = librosa.resample(y, orig_sr=sr, target_sr=sample_rate)\n",
    "    # transfer to bytes\n",
    "    y_16k = np.int16(y_16k * 32768).tobytes()\n",
    "    # calculate bytes of 10ms in 16000Hz\n",
    "    step = int(sample_rate * 0.01) * 2\n",
    "\n",
    "    # assert error if len(y_16k) < step\n",
    "    assert len(y_16k) >= step\n",
    "\n",
    "    # loop the bytes in 10ms frames\n",
    "    frames = []\n",
    "    for i in range(0, len(y_16k) - step, step):\n",
    "        frames.append(y_16k[i:i+step])\n",
    "\n",
    "    vadres = []\n",
    "    for i, frame in enumerate(frames):\n",
    "        vadres.append(vad.is_speech(frame, sample_rate))\n",
    "    return vadres\n",
    "\n",
    "vadres = get_vad(y, sr, mode=3)\n",
    "print(len(vadres))\n",
    "print(vadres)\n",
    "start = np.argmax(vadres) / 100.0\n",
    "end = (len(vadres) - np.argmax(np.flip(vadres))) / 100.0\n",
    "print(start, end)\n",
    "\n"
   ]
  },
  {
   "cell_type": "code",
   "execution_count": 1,
   "metadata": {},
   "outputs": [
    {
     "name": "stdout",
     "output_type": "stream",
     "text": [
      "torch.Size([41239])\n",
      "[]\n"
     ]
    },
    {
     "ename": "IndexError",
     "evalue": "list index out of range",
     "output_type": "error",
     "traceback": [
      "\u001b[0;31m---------------------------------------------------------------------------\u001b[0m",
      "\u001b[0;31mIndexError\u001b[0m                                Traceback (most recent call last)",
      "Cell \u001b[0;32mIn[1], line 9\u001b[0m\n\u001b[1;32m      7\u001b[0m speech_timestamps \u001b[38;5;241m=\u001b[39m get_speech_timestamps(wav, model)\n\u001b[1;32m      8\u001b[0m \u001b[38;5;28mprint\u001b[39m(speech_timestamps)\n\u001b[0;32m----> 9\u001b[0m \u001b[38;5;28mprint\u001b[39m(\u001b[43mspeech_timestamps\u001b[49m\u001b[43m[\u001b[49m\u001b[38;5;241;43m0\u001b[39;49m\u001b[43m]\u001b[49m[\u001b[38;5;124m'\u001b[39m\u001b[38;5;124mstart\u001b[39m\u001b[38;5;124m'\u001b[39m]\u001b[38;5;241m/\u001b[39m\u001b[38;5;241m16000\u001b[39m, speech_timestamps[\u001b[38;5;241m0\u001b[39m][\u001b[38;5;124m'\u001b[39m\u001b[38;5;124mend\u001b[39m\u001b[38;5;124m'\u001b[39m]\u001b[38;5;241m/\u001b[39m\u001b[38;5;241m16000\u001b[39m)\n",
      "\u001b[0;31mIndexError\u001b[0m: list index out of range"
     ]
    }
   ],
   "source": [
    "from silero_vad import load_silero_vad, read_audio, get_speech_timestamps\n",
    "\n",
    "fn = \"/data/storage025/Turntaking/PD_batch3_raw_single_channel_normalized/EarlyLate/subj-2236_14_E_beweegt_strand.wav_1.wav\"\n",
    "model = load_silero_vad()\n",
    "wav = read_audio(fn) # backend (sox, soundfile, or ffmpeg) required!\n",
    "print(wav.shape)\n",
    "speech_timestamps = get_speech_timestamps(wav, model)\n",
    "print(speech_timestamps)\n",
    "print(speech_timestamps[0]['start']/16000, speech_timestamps[0]['end']/16000)\n"
   ]
  }
 ],
 "metadata": {
  "kernelspec": {
   "display_name": "yzhongenv",
   "language": "python",
   "name": "python3"
  },
  "language_info": {
   "codemirror_mode": {
    "name": "ipython",
    "version": 3
   },
   "file_extension": ".py",
   "mimetype": "text/x-python",
   "name": "python",
   "nbconvert_exporter": "python",
   "pygments_lexer": "ipython3",
   "version": "3.10.12"
  }
 },
 "nbformat": 4,
 "nbformat_minor": 2
}
