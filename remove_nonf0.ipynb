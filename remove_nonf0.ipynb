{
 "cells": [
  {
   "cell_type": "code",
   "execution_count": 13,
   "metadata": {},
   "outputs": [
    {
     "name": "stdout",
     "output_type": "stream",
     "text": [
      "{'subj-1121_punaise_3obj_mbt_men.wav_1', 'subj-2216_naaimachine_3obj_mbt_zen.wav_1', 'subj-2216_sigaret_2obj_mbt_men.wav_1', 'subj-2120_knoop_2obj_mbt_men.wav_1', 'subj-2112_sjaal_3obj_zbt_men.wav_1', 'subj-2112_bowlingbal_2obj_mbt_men.wav_1'}\n",
      "subj-1121_punaise_3obj_mbt_men.wav_1.wav\n",
      "subj-2112_bowlingbal_2obj_mbt_men.wav_1.wav\n",
      "subj-2112_sjaal_3obj_zbt_men.wav_1.wav\n",
      "subj-2120_knoop_2obj_mbt_men.wav_1.wav\n",
      "subj-2216_naaimachine_3obj_mbt_zen.wav_1.wav\n",
      "subj-2216_sigaret_2obj_mbt_men.wav_1.wav\n",
      "subj-1121_punaise_3obj_mbt_men.wav_1.wav_energy.npy\n",
      "subj-2216_naaimachine_3obj_mbt_zen.wav_1.wav_energy.npy\n",
      "subj-2112_bowlingbal_2obj_mbt_men.wav_1.wav_energy.npy\n",
      "subj-2112_sjaal_3obj_zbt_men.wav_1.wav_energy.npy\n",
      "subj-2120_knoop_2obj_mbt_men.wav_1.wav_energy.npy\n",
      "subj-2216_sigaret_2obj_mbt_men.wav_1.wav_energy.npy\n"
     ]
    }
   ],
   "source": [
    "import os\n",
    "\n",
    "ids = set()\n",
    "with open('./non_f0_list.txt') as f:\n",
    "    for line in f:\n",
    "        ids.add('.'.join(line.strip().split('.')[:2]))\n",
    "print(ids)\n",
    "# remove all files starting with the id\n",
    "for root, dirs, files in os.walk('/home/yzhong/gits/TurnTakingPD/storage025/wavs_single_channel_nosil'):\n",
    "    for file in files:\n",
    "        if file[:-4] in ids or '.'.join(file.strip().split('.')[:2]) in ids:\n",
    "            os.remove(os.path.join(root, file))\n",
    "            print(file)"
   ]
  }
 ],
 "metadata": {
  "kernelspec": {
   "display_name": "yzhongenv",
   "language": "python",
   "name": "python3"
  },
  "language_info": {
   "codemirror_mode": {
    "name": "ipython",
    "version": 3
   },
   "file_extension": ".py",
   "mimetype": "text/x-python",
   "name": "python",
   "nbconvert_exporter": "python",
   "pygments_lexer": "ipython3",
   "version": "3.10.12"
  }
 },
 "nbformat": 4,
 "nbformat_minor": 2
}
