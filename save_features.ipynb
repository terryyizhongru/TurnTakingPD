{
 "cells": [
  {
   "cell_type": "code",
   "execution_count": 2,
   "metadata": {},
   "outputs": [],
   "source": [
    "\n",
    "# extract features via librosa\n",
    "import librosa\n",
    "import numpy as np\n",
    "\n",
    "class FeatureExtractor:\n",
    "    def __init__(self, sr=44100):\n",
    "        self.sr = sr\n",
    "\n",
    "    def extract_features(self, audio_path):\n",
    "        y, sr = librosa.load(audio_path, sr=self.sr)\n",
    "        \n",
    "        # # extract mfcc\n",
    "        # mfcc = librosa.feature.mfcc(y=y, sr=sr, n_mfcc=40)\n",
    "\n",
    "        # # extract mel\n",
    "        # mel = librosa.feature.melspectrogram(y=y, sr=sr)\n",
    "\n",
    "        # # extract contrast\n",
    "        # contrast = librosa.feature.spectral_contrast(y=y, sr=sr)\n",
    "\n",
    "        # # extract spectral centroid\n",
    "        # spec_cent = librosa.feature.spectral_centroid(y=y, sr=sr)\n",
    "\n",
    "        # # extract spectral bandwidth\n",
    "        # spec_bw = librosa.feature.spectral_bandwidth(y=y, sr=sr)\n",
    "\n",
    "        # # extract spectral rolloff\n",
    "        # spec_rolloff = librosa.feature.spectral_rolloff(y=y, sr=sr, roll_percent=0.99)\n",
    "        # spec_rolloff_min = librosa.feature.spectral_rolloff(y=y, sr=sr, roll_percent=0.01)\n",
    "\n",
    "        # extract pitch(f0) from time series\n",
    "        f0, voiced_flag, voiced_probs = librosa.pyin(y,\n",
    "                                                     fmin=librosa.note_to_hz('C2'),\n",
    "                                                     fmax=librosa.note_to_hz('C7'),\n",
    "                                                     fill_na=0.0)\n",
    "        f0 = f0[np.newaxis, :]\n",
    "        voiced_flag = voiced_flag[np.newaxis, :]\n",
    "        voiced_probs = voiced_probs[np.newaxis, :]\n",
    "\n",
    "\n",
    "        features = np.concatenate((f0, voiced_flag, voiced_probs), axis=0)\n",
    "        \n",
    "        print(features.shape)\n",
    "        return features\n",
    "\n",
    "        # # extract zero crossing rate\n",
    "        # zcr = librosa.feature.zero_crossing_rate(y=y)\n",
    "\n",
    "        # # extract flatness\n",
    "        # flatness = librosa.feature.spectral_flatness(y=y)\n",
    "        \n",
    "        # # concatenate all features\n",
    "        # features = np.concatenate((mfcc, mel, contrast, spec_cent, spec_bw, spec_rolloff, spec_rolloff_min, f0, voiced_flag, voiced_probs, zcr, flatness), axis=0)\n",
    "        # # features = np.concatenate((f0, voiced_probs), axis=0)\n",
    "        # # Aggregate features\n",
    "        # # features = np.nan_to_num(features, nan=0.0)\n",
    "        # # features[~np.isfinite(features)] = 0\n",
    "        # features = np.vstack((np.mean(features, axis=1))).flatten()\n",
    "        # print(features.shape)\n",
    "        \n",
    "        # return features\n",
    "    \n",
    "    "
   ]
  },
  {
   "cell_type": "code",
   "execution_count": 5,
   "metadata": {},
   "outputs": [
    {
     "name": "stdout",
     "output_type": "stream",
     "text": [
      "Processing test folder...\n",
      "Found 11 wav files\n"
     ]
    },
    {
     "name": "stderr",
     "output_type": "stream",
     "text": [
      "  0%|          | 0/11 [00:00<?, ?it/s]"
     ]
    },
    {
     "name": "stdout",
     "output_type": "stream",
     "text": [
      "(3, 219)\n"
     ]
    },
    {
     "name": "stderr",
     "output_type": "stream",
     "text": [
      "  9%|▉         | 1/11 [00:01<00:17,  1.74s/it]"
     ]
    },
    {
     "name": "stdout",
     "output_type": "stream",
     "text": [
      "(3, 215)\n"
     ]
    },
    {
     "name": "stderr",
     "output_type": "stream",
     "text": [
      " 18%|█▊        | 2/11 [00:02<00:10,  1.18s/it]"
     ]
    },
    {
     "name": "stdout",
     "output_type": "stream",
     "text": [
      "(3, 277)\n"
     ]
    },
    {
     "name": "stderr",
     "output_type": "stream",
     "text": [
      " 27%|██▋       | 3/11 [00:03<00:09,  1.13s/it]"
     ]
    },
    {
     "name": "stdout",
     "output_type": "stream",
     "text": [
      "(3, 183)\n"
     ]
    },
    {
     "name": "stderr",
     "output_type": "stream",
     "text": [
      " 36%|███▋      | 4/11 [00:04<00:06,  1.04it/s]"
     ]
    },
    {
     "name": "stdout",
     "output_type": "stream",
     "text": [
      "(3, 179)\n"
     ]
    },
    {
     "name": "stderr",
     "output_type": "stream",
     "text": [
      " 45%|████▌     | 5/11 [00:05<00:05,  1.14it/s]"
     ]
    },
    {
     "name": "stdout",
     "output_type": "stream",
     "text": [
      "(3, 237)\n"
     ]
    },
    {
     "name": "stderr",
     "output_type": "stream",
     "text": [
      " 55%|█████▍    | 6/11 [00:05<00:04,  1.12it/s]"
     ]
    },
    {
     "name": "stdout",
     "output_type": "stream",
     "text": [
      "(3, 305)\n"
     ]
    },
    {
     "name": "stderr",
     "output_type": "stream",
     "text": [
      " 64%|██████▎   | 7/11 [00:07<00:03,  1.02it/s]"
     ]
    },
    {
     "name": "stdout",
     "output_type": "stream",
     "text": [
      "(3, 189)\n"
     ]
    },
    {
     "name": "stderr",
     "output_type": "stream",
     "text": [
      " 73%|███████▎  | 8/11 [00:07<00:02,  1.11it/s]"
     ]
    },
    {
     "name": "stdout",
     "output_type": "stream",
     "text": [
      "(3, 211)\n"
     ]
    },
    {
     "name": "stderr",
     "output_type": "stream",
     "text": [
      " 82%|████████▏ | 9/11 [00:08<00:01,  1.15it/s]"
     ]
    },
    {
     "name": "stdout",
     "output_type": "stream",
     "text": [
      "(3, 223)\n"
     ]
    },
    {
     "name": "stderr",
     "output_type": "stream",
     "text": [
      " 91%|█████████ | 10/11 [00:09<00:00,  1.15it/s]"
     ]
    },
    {
     "name": "stdout",
     "output_type": "stream",
     "text": [
      "(3, 373)\n"
     ]
    },
    {
     "name": "stderr",
     "output_type": "stream",
     "text": [
      "100%|██████████| 11/11 [00:10<00:00,  1.01it/s]"
     ]
    },
    {
     "name": "stdout",
     "output_type": "stream",
     "text": [
      "4\n",
      "4\n",
      "3\n"
     ]
    },
    {
     "name": "stderr",
     "output_type": "stream",
     "text": [
      "\n"
     ]
    }
   ],
   "source": [
    "import os\n",
    "import re\n",
    "from pprint import pprint\n",
    "from tqdm import tqdm\n",
    "import glob\n",
    "import multiprocess\n",
    "from pathlib import Path\n",
    "\n",
    "base_folder_path = Path('/data/storage025/wavs_single_channel')\n",
    "\n",
    "# features_folder_path = f'{base_folder_path}-features'\n",
    "# if not os.path.exists(features_folder_path):\n",
    "#     os.makedirs(features_folder_path)\n",
    "\n",
    "# 3 sublists for YA OA PD\n",
    "BD = [[], [], []]\n",
    "EL = [[], [], []]\n",
    "PN = [[], [], []]\n",
    "all3 = [[], [], []]\n",
    "\n",
    "def process_file(args):\n",
    "    wav_file, extractor = args\n",
    "    dir_path, filename = os.path.split(wav_file)\n",
    "    # _, dir_name = os.path.split(dir_path)\n",
    "    \n",
    "    try:\n",
    "        #get group id from filename\n",
    "        group_id = filename.split('_')[0][-4:-2]\n",
    "\n",
    "        feature = extractor.extract_features(audio_path=wav_file)\n",
    "        if group_id not in ['11', '21', '22']:\n",
    "            raise ValueError(f\"Invalid group id {group_id}\")\n",
    "        \n",
    "        features_folder_path = f'{dir_path}-features'\n",
    "        if not os.path.exists(features_folder_path):\n",
    "            os.makedirs(features_folder_path)\n",
    "\n",
    "        feature_file_path = os.path.join(features_folder_path, os.path.basename(wav_file) + '.npy')\n",
    "        np.save(feature_file_path, feature)  \n",
    "\n",
    "        return group_id, feature, f'Processed {wav_file}'\n",
    "    except Exception as e:\n",
    "        return None, None, f\"Error processing {wav_file}: {e}\"\n",
    "    \n",
    "\n",
    "def add2list(group_id, feature, ls):\n",
    "    if group_id == '11':\n",
    "        ls[0].append(feature)\n",
    "    elif group_id == '21':\n",
    "        ls[1].append(feature)\n",
    "    elif group_id == '22':\n",
    "        ls[2].append(feature)\n",
    "    else:\n",
    "        print(f'Invalid group id {group_id}')\n",
    "    \n",
    "\n",
    "feature_extractor = FeatureExtractor()\n",
    "\n",
    "# load wav files in BoundaryTone  EarlyLate  PictureNaming folders separately\n",
    "for folder in ['BoundaryTone', 'EarlyLate', 'PictureNaming']:\n",
    "# for folder in ['test']:\n",
    "\n",
    "    folder_path = base_folder_path / folder\n",
    "    wav_files = list(folder_path.glob('*.wav'))\n",
    "    print(f'Processing {folder} folder...')\n",
    "    print(f'Found {len(wav_files)} wav files')\n",
    "\n",
    "    if folder == 'test':\n",
    "        args = [(wav_file, feature_extractor) for wav_file in wav_files]\n",
    "        with multiprocess.Pool(1) as pool:\n",
    "            results = list(tqdm(pool.imap(process_file, args), total=len(wav_files)))\n",
    "            for group_id, feature, message in results:\n",
    "                if feature is not None:\n",
    "                    add2list(group_id, feature, all3)\n",
    "                else:\n",
    "                    print(message)\n",
    "        for sublist in all3:\n",
    "            print(len(sublist))\n",
    "    \n",
    "\n",
    "    if folder == 'BoundaryTone':\n",
    "        args = [(wav_file, feature_extractor) for wav_file in wav_files]\n",
    "        with multiprocess.Pool() as pool:\n",
    "            results = list(tqdm(pool.imap(process_file, args), total=len(wav_files)))\n",
    "            for group_id, feature, message in results:\n",
    "                if feature is not None:\n",
    "                    add2list(group_id, feature, BD)            \n",
    "                else:\n",
    "                    print(message)\n",
    "        # for wav_file in tqdm(wav_files):\n",
    "        #     process_file(wav_file, feature_extractor, BD)\n",
    "        for sublist in BD:\n",
    "            print(len(sublist))\n",
    "    elif folder == 'EarlyLate':\n",
    "        args = [(wav_file, feature_extractor) for wav_file in wav_files]\n",
    "        with multiprocess.Pool() as pool:\n",
    "            results = list(tqdm(pool.imap(process_file, args), total=len(wav_files)))\n",
    "            for group_id, feature, message in results:\n",
    "                if feature is not None:\n",
    "                    add2list(group_id, feature, EL)\n",
    "                else:\n",
    "                    print(message)\n",
    "        # for wav_file in tqdm(wav_files):\n",
    "        #     process_file(wav_file, feature_extractor, EL)\n",
    "        for sublist in EL:\n",
    "            print(len(sublist))\n",
    "    elif folder == 'PictureNaming':\n",
    "        args = [(wav_file, feature_extractor) for wav_file in wav_files]\n",
    "        with multiprocess.Pool() as pool:\n",
    "            results = list(tqdm(pool.imap(process_file, args), total=len(wav_files)))\n",
    "            for group_id, feature, message in results:\n",
    "                if feature is not None:\n",
    "                    add2list(group_id, feature, PN)\n",
    "                else:\n",
    "                    print(message)\n",
    "        # for wav_file in tqdm(wav_files):\n",
    "        #     process_file(wav_file, feature_extractor, PN)\n",
    "        for sublist in PN:\n",
    "            print(len(sublist))\n",
    "\n",
    "    #merge 3lists to all3\n",
    "    for i in range(3):\n",
    "        all3[i] += BD[i] + EL[i] + PN[i]\n",
    "    for sublist in all3:\n",
    "            print(len(sublist))\n",
    "\n",
    "\n",
    "\n"
   ]
  },
  {
   "cell_type": "code",
   "execution_count": null,
   "metadata": {},
   "outputs": [],
   "source": []
  },
  {
   "cell_type": "code",
   "execution_count": null,
   "metadata": {},
   "outputs": [],
   "source": []
  }
 ],
 "metadata": {
  "kernelspec": {
   "display_name": "yzhongenv",
   "language": "python",
   "name": "python3"
  },
  "language_info": {
   "codemirror_mode": {
    "name": "ipython",
    "version": 3
   },
   "file_extension": ".py",
   "mimetype": "text/x-python",
   "name": "python",
   "nbconvert_exporter": "python",
   "pygments_lexer": "ipython3",
   "version": "3.10.12"
  }
 },
 "nbformat": 4,
 "nbformat_minor": 2
}
